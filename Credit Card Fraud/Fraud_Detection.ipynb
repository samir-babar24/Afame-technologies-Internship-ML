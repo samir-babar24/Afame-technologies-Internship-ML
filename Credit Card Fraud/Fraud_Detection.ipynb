{
 "cells": [
  {
   "cell_type": "code",
   "execution_count": null,
   "metadata": {},
   "outputs": [],
   "source": [
    "import pandas as pd\n",
    "from sklearn.model_selection import train_test_split\n",
    "from sklearn.preprocessing import StandardScaler\n",
    "from sklearn.linear_model import LogisticRegression\n",
    "from sklearn.tree import DecisionTreeClassifier\n",
    "from sklearn.ensemble import RandomForestClassifier\n",
    "from sklearn.metrics import classification_report, confusion_matrix\n",
    "import joblib\n",
    "\n",
    "train = pd.read_csv(\"train.csv\")\n",
    "test = pd.read_csv(\"test.csv\")\n",
    "\n",
    "X_train = train.drop(columns=[\"is_fraud\"])\n",
    "y_train = train[\"is_fraud\"]\n",
    "X_test = test.drop(columns=[\"is_fraud\"])\n",
    "y_test = test[\"is_fraud\"]\n",
    "\n",
    "scaler = StandardScaler()\n",
    "X_train_scaled = scaler.fit_transform(X_train)\n",
    "X_test_scaled = scaler.transform(X_test)\n",
    "\n",
    "log_model = LogisticRegression(max_iter=1000)\n",
    "log_model.fit(X_train_scaled, y_train)\n",
    "log_preds = log_model.predict(X_test_scaled)\n",
    "\n",
    "tree_model = DecisionTreeClassifier()\n",
    "tree_model.fit(X_train_scaled, y_train)\n",
    "tree_preds = tree_model.predict(X_test_scaled)\n",
    "\n",
    "forest_model = RandomForestClassifier(n_estimators=100)\n",
    "forest_model.fit(X_train_scaled, y_train)\n",
    "forest_preds = forest_model.predict(X_test_scaled)\n",
    "\n",
    "print(\"Logistic Regression Results\")\n",
    "print(classification_report(y_test, log_preds))\n",
    "print(confusion_matrix(y_test, log_preds))\n",
    "\n",
    "print(\"Decision Tree Results\")\n",
    "print(classification_report(y_test, tree_preds))\n",
    "print(confusion_matrix(y_test, tree_preds))\n",
    "\n",
    "print(\"Random Forest Results\")\n",
    "print(classification_report(y_test, forest_preds))\n",
    "print(confusion_matrix(y_test, forest_preds))\n",
    "\n",
    "joblib.dump(forest_model, \"fraud_model.joblib\")\n",
    "joblib.dump(scaler, \"scaler.joblib\")"
   ]
  }
 ],
 "metadata": {
  "kernelspec": {
   "display_name": "Python 3",
   "language": "python",
   "name": "python3"
  },
  "language_info": {
   "name": "python"
  }
 },
 "nbformat": 4,
 "nbformat_minor": 2
}
